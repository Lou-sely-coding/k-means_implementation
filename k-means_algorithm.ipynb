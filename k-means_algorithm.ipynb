{
 "cells": [
  {
   "cell_type": "markdown",
   "metadata": {},
   "source": [
    "### k-means algorithm\n"
   ]
  },
  {
   "cell_type": "code",
   "execution_count": 1,
   "metadata": {
    "ExecuteTime": {
     "end_time": "2022-06-05T05:18:39.405263Z",
     "start_time": "2022-06-05T05:18:39.140316Z"
    }
   },
   "outputs": [],
   "source": [
    "import numpy as np\n",
    "\n",
    "#define number of clusters\n",
    "k = 2\n",
    "\n",
    "vectors = np.array([[5,3,7],[10,15,8],[15,12,10],[24,10,10],[30,45,20],[85,70,90],[71,80, 60],[60,78, 80],[55,52,40],[80,91,92]])\n",
    "\n",
    "# for this example we choose the first k elements as initial centroids (instead of doing it randomly)\n",
    "initial_centroids = vectors[:k] \n",
    "\n",
    "vector_length = len(vectors[0])"
   ]
  },
  {
   "cell_type": "code",
   "execution_count": 2,
   "metadata": {
    "ExecuteTime": {
     "end_time": "2022-06-05T05:18:39.426863Z",
     "start_time": "2022-06-05T05:18:39.408564Z"
    }
   },
   "outputs": [],
   "source": [
    "def calculate_distance(vectors, centroids):\n",
    "    dists = -2 * np.dot(centroids, vectors.T) + np.sum(vectors**2, axis=1) + \\\n",
    "    np.sum(centroids**2, axis=1)[:, np.newaxis]\n",
    "    \n",
    "    return dists.T\n",
    "\n",
    "#assign each vector to closest centroid\n",
    "\n",
    "def centroid_assign_vectors(vectors, k, distances):\n",
    "    \n",
    "    # dictionary will contain each centroid as key, and all vectors which belong to its cluster\n",
    "    cluster_dict = {c: [] for c in range(k)}\n",
    "\n",
    "    for i,dis in enumerate(distances):\n",
    "        # get the index of the shortest distance (the index corresponds to the centroid)\n",
    "        min_dis_index = np.argmin(dis)\n",
    "        cluster_dict[min_dis_index].append(vectors[i])\n",
    "        \n",
    "    return cluster_dict  \n",
    "\n",
    "# calculate the new centroids\n",
    "\n",
    "def calculate_new_centroids(cluster_dict, vector_length):\n",
    "    updated_centroids = np.zeros(shape=(k,vector_length))\n",
    "\n",
    "    for i, vectors in enumerate(cluster_dict.values()):\n",
    "        # sum all of the vectors of each array\n",
    "        stacked_array = np.vstack(vectors)\n",
    "        # then calculate the mean\n",
    "        new_centroid = np.ndarray.mean(stacked_array, axis=0) \n",
    "        updated_centroids[i] = new_centroid\n",
    "\n",
    "    return updated_centroids\n",
    "\n",
    "\n",
    "# using the functions defined above\n",
    "def k_means(initial_centroids, vectors, vector_length):\n",
    "    \n",
    "    # start the first iteration with the initial centroids\n",
    "    new_centroids = initial_centroids\n",
    "    \n",
    "    for i in range(20):\n",
    "        print('iteration ', i)\n",
    "        \n",
    "        distances = calculate_distance(vectors, new_centroids)\n",
    "        \n",
    "        cluster_dict = centroid_assign_vectors(vectors, k, distances)\n",
    "        \n",
    "        updated_centroids = calculate_new_centroids(cluster_dict, vector_length)\n",
    "        \n",
    "        # check if vectors are not changing clusters anymore\n",
    "        if np.array_equal(new_centroids, updated_centroids):\n",
    "            return distances, cluster_dict, updated_centroids\n",
    "            \n",
    "        # if change is still occuring the centroids will be updated\n",
    "        new_centroids = updated_centroids\n",
    "    \n",
    "    return distances, cluster_dict, updated_centroids"
   ]
  },
  {
   "cell_type": "code",
   "execution_count": 3,
   "metadata": {
    "ExecuteTime": {
     "end_time": "2022-06-05T05:18:39.443594Z",
     "start_time": "2022-06-05T05:18:39.429902Z"
    }
   },
   "outputs": [
    {
     "name": "stdout",
     "output_type": "stream",
     "text": [
      "iteration  0\n",
      "iteration  1\n",
      "iteration  2\n",
      "iteration  3\n"
     ]
    }
   ],
   "source": [
    "all_distances, cluster_dictionary, final_centroids = k_means(initial_centroids, vectors, vector_length)"
   ]
  },
  {
   "cell_type": "code",
   "execution_count": 4,
   "metadata": {
    "ExecuteTime": {
     "end_time": "2022-06-05T05:18:39.470158Z",
     "start_time": "2022-06-05T05:18:39.449323Z"
    }
   },
   "outputs": [
    {
     "data": {
      "text/plain": [
       "array([[16.8, 17. , 11. ],\n",
       "       [70.2, 74.2, 72.4]])"
      ]
     },
     "execution_count": 4,
     "metadata": {},
     "output_type": "execute_result"
    }
   ],
   "source": [
    "final_centroids"
   ]
  },
  {
   "cell_type": "code",
   "execution_count": 5,
   "metadata": {
    "ExecuteTime": {
     "end_time": "2022-06-05T05:18:39.494009Z",
     "start_time": "2022-06-05T05:18:39.474129Z"
    }
   },
   "outputs": [
    {
     "data": {
      "text/plain": [
       "{0: [array([5, 3, 7]),\n",
       "  array([10, 15,  8]),\n",
       "  array([15, 12, 10]),\n",
       "  array([24, 10, 10]),\n",
       "  array([30, 45, 20])],\n",
       " 1: [array([85, 70, 90]),\n",
       "  array([71, 80, 60]),\n",
       "  array([60, 78, 80]),\n",
       "  array([55, 52, 40]),\n",
       "  array([80, 91, 92])]}"
      ]
     },
     "execution_count": 5,
     "metadata": {},
     "output_type": "execute_result"
    }
   ],
   "source": [
    "# shows which vector belongs to which cluster\n",
    "cluster_dictionary"
   ]
  },
  {
   "cell_type": "code",
   "execution_count": 6,
   "metadata": {
    "ExecuteTime": {
     "end_time": "2022-06-05T05:18:39.532626Z",
     "start_time": "2022-06-05T05:18:39.498080Z"
    }
   },
   "outputs": [
    {
     "data": {
      "text/plain": [
       "array([[  351.24, 13597.64],\n",
       "       [   59.24, 11276.04],\n",
       "       [   29.24, 10809.64],\n",
       "       [  101.84, 10149.84],\n",
       "       [ 1039.24,  5214.44],\n",
       "       [13701.24,   546.44],\n",
       "       [ 9307.64,   188.04],\n",
       "       [10348.24,   176.24],\n",
       "       [ 3525.24,  1773.64],\n",
       "       [16031.24,   762.44]])"
      ]
     },
     "execution_count": 6,
     "metadata": {},
     "output_type": "execute_result"
    }
   ],
   "source": [
    "# distance of each feature to each centroid\n",
    "all_distances"
   ]
  },
  {
   "cell_type": "markdown",
   "metadata": {},
   "source": [
    "This notebook uses the following example for k-means clustering:\n",
    "https://stackabuse.com/k-means-clustering-with-scikit-learn/\n",
    "\n",
    "Distance calculation: https://medium.com/@souravdey/l2-distance-matrix-vectorization-trick-26aa3247ac6c"
   ]
  },
  {
   "cell_type": "code",
   "execution_count": 7,
   "metadata": {
    "ExecuteTime": {
     "end_time": "2022-06-05T05:18:41.907414Z",
     "start_time": "2022-06-05T05:18:39.537899Z"
    }
   },
   "outputs": [
    {
     "name": "stdout",
     "output_type": "stream",
     "text": [
      "[[16.8 17.  11. ]\n",
      " [70.2 74.2 72.4]]\n"
     ]
    }
   ],
   "source": [
    "# confirming the results from above\n",
    "\n",
    "from sklearn.cluster import KMeans\n",
    "import warnings\n",
    "warnings.filterwarnings('ignore')\n",
    "\n",
    "X = np.array([[5,3,7],[10,15,8],[15,12,10],[24,10,10],[30,45,20],[85,70,90],[71,80, 60],[60,78, 80],[55,52,40],[80,91,92],])\n",
    "\n",
    "kmeans = KMeans(n_clusters=2, init = initial_centroids)\n",
    "kmeans.fit(X)\n",
    "\n",
    "print(kmeans.cluster_centers_)"
   ]
  }
 ],
 "metadata": {
  "kernelspec": {
   "display_name": "Python 3",
   "language": "python",
   "name": "python3"
  },
  "language_info": {
   "codemirror_mode": {
    "name": "ipython",
    "version": 3
   },
   "file_extension": ".py",
   "mimetype": "text/x-python",
   "name": "python",
   "nbconvert_exporter": "python",
   "pygments_lexer": "ipython3",
   "version": "3.7.1"
  },
  "toc": {
   "base_numbering": 1,
   "nav_menu": {},
   "number_sections": true,
   "sideBar": true,
   "skip_h1_title": false,
   "title_cell": "Table of Contents",
   "title_sidebar": "Contents",
   "toc_cell": false,
   "toc_position": {},
   "toc_section_display": true,
   "toc_window_display": false
  }
 },
 "nbformat": 4,
 "nbformat_minor": 4
}
